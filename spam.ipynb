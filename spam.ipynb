{
 "cells": [
  {
   "cell_type": "code",
   "execution_count": 19,
   "metadata": {},
   "outputs": [],
   "source": [
    "import torch\n",
    "from torch import nn\n",
    "from torch.utils.data import DataLoader, Dataset\n",
    "import nltk\n",
    "from nltk.corpus import stopwords\n",
    "from nltk.tokenize import word_tokenize\n",
    "import pandas as pd\n",
    "import matplotlib.pyplot as plt\n",
    "import numpy as np\n",
    "import math"
   ]
  },
  {
   "cell_type": "code",
   "execution_count": 3,
   "metadata": {},
   "outputs": [
    {
     "name": "stdout",
     "output_type": "stream",
     "text": [
      "total samples:  5573\n",
      "ham:  4825\n",
      "spam:  748\n"
     ]
    },
    {
     "data": {
      "text/plain": [
       "<BarContainer object of 2 artists>"
      ]
     },
     "execution_count": 3,
     "metadata": {},
     "output_type": "execute_result"
    },
    {
     "data": {
      "image/png": "[encoded data removed]",
      "text/plain": [
       "<Figure size 640x480 with 1 Axes>"
      ]
     },
     "metadata": {},
     "output_type": "display_data"
    }
   ],
   "source": [
    "data = pd.read_csv('./spam_detection.csv', header=None)\n",
    "print(\"total samples: \", data[0].count())\n",
    "data = (data[0] == \"ham\").to_numpy()\n",
    "\n",
    "ham = data.sum()\n",
    "spam = data.size - ham\n",
    "\n",
    "print(\"ham: \", ham)\n",
    "print(\"spam: \", spam)\n",
    "\n",
    "plt.bar([\"ham\", \"spam\"], [ham, spam])"
   ]
  },
  {
   "cell_type": "code",
   "execution_count": 10,
   "metadata": {},
   "outputs": [],
   "source": [
    "words_map = {'\\0':0}\n",
    "sentence_len = 64\n",
    "data_dir = './spam_detection.csv'\n",
    "train_test_pro = 0.7\n",
    "stop_words = set(stopwords.words('english'))\n",
    "\n",
    "def initData(data_directory = './spam_detection.csv'):\n",
    "    k = 0\n",
    "    data_ = {0 : [], 1 : []}\n",
    "    data = pd.read_csv(data_directory, header=None)\n",
    "\n",
    "    for i in range(len(data[0])):\n",
    "        data[1][i] = [word for word in word_tokenize(data[1][i]) if word not in stop_words]\n",
    "        for word in data[1][i]:\n",
    "            if word not in words_map:\n",
    "                words_map[word] = k\n",
    "                k += 1\n",
    "        data[1][i] = [words_map[word] for word in data[1][i]]\n",
    "        data[1][i] = [0] * (sentence_len - len(data[1][i])) + data[1][i]\n",
    "        data[1][i] = torch.tensor(data[1][i])\n",
    "        if data[0][i] == 'ham':\n",
    "            data_[0].append(data[1][i])\n",
    "        else:\n",
    "            data_[1].append(data[1][i])\n",
    "\n",
    "    len_ = min(len(data_[1]), len(data_[0]))\n",
    "\n",
    "    data_[0] = data_[0][1:len_]\n",
    "    data_[1] = data_[1][1:len_]\n",
    "    return data_, len_ - 1\n",
    "\n",
    "\n",
    "class SpamData(Dataset):\n",
    "    def __init__(self, data_directory, train=True, rt=0.7):\n",
    "        self.data_, self.len_ = initData(data_directory)\n",
    "        mid = (int) (self.len_*rt)\n",
    "        if train:\n",
    "            self.data_[0] = self.data_[0][0:mid]\n",
    "            self.data_[1] = self.data_[1][0:mid]\n",
    "            self.len_ = mid\n",
    "        else:\n",
    "            self.data_[0] = self.data_[0][mid:]\n",
    "            self.data_[1] = self.data_[1][mid:]\n",
    "            self.len_ = self.len_ - mid\n",
    "\n",
    "    def __len__(self):\n",
    "        return self.len_ * 2\n",
    "\n",
    "    def __getitem__(self, index):\n",
    "        if (index % 2 == 1):\n",
    "            return 1, self.data_[1][index % self.len_]\n",
    "        return 0, self.data_[0][index % self.len_]"
   ]
  },
  {
   "cell_type": "code",
   "execution_count": 17,
   "metadata": {},
   "outputs": [],
   "source": [
    "class PositionalEncoding(nn.Module):\n",
    "\n",
    "    def __init__(self, d_model: int, dropout: float = 0.1, max_len: int = 5000):\n",
    "        super().__init__()\n",
    "        self.dropout = nn.Dropout(p=dropout)\n",
    "\n",
    "        position = torch.arange(max_len).unsqueeze(1)\n",
    "        div_term = torch.exp(torch.arange(0, d_model, 2) * (-math.log(10000.0) / d_model))\n",
    "        pe = torch.zeros(max_len, 1, d_model)\n",
    "        pe[:, 0, 0::2] = torch.sin(position * div_term)\n",
    "        pe[:, 0, 1::2] = torch.cos(position * div_term)\n",
    "        self.register_buffer('pe', pe)\n",
    "\n",
    "    def forward(self, x: torch.Tensor) -> torch.Tensor:\n",
    "        x = x + self.pe[:x.size(0)]\n",
    "        return self.dropout(x)\n",
    "\n",
    "class Transmodel(nn.Module):\n",
    "    def __init__(self):\n",
    "        super(Transmodel, self).__init__()\n",
    "        embed_dim = 48\n",
    "        self.embed = nn.Embedding(len(words_map), embed_dim)\n",
    "        layer = nn.TransformerEncoderLayer(embed_dim, 4)\n",
    "        self.transen = nn.TransformerEncoder(layer, 4)\n",
    "        self.ln = nn.Linear(embed_dim * sentence_len, sentence_len)\n",
    "        self.lno = nn.Linear(sentence_len, 1)\n",
    "        self.pose = PositionalEncoding(embed_dim)\n",
    "\n",
    "    def forward(self, input):\n",
    "        r = self.embed(input)\n",
    "        r = self.pose(r)\n",
    "        r = torch.reshape(r, (input.size()[0],-1))\n",
    "        r = self.ln(r)\n",
    "        r = self.lno(r)\n",
    "        return torch.sigmoid(r)\n",
    "\n",
    "class LSTMmodel(nn.Module):\n",
    "    def __init__(self):\n",
    "        super(LSTMmodel, self).__init__()\n",
    "        self.embed = nn.Embedding(len(words_map), 32)\n",
    "        self.lstm = nn.LSTM(32, 64, 4, batch_first=True)\n",
    "        self.ln = nn.Linear(64, 1)\n",
    "        self.lno = nn.Linear(sentence_len, 1)\n",
    "\n",
    "    def forward(self, input):\n",
    "        r = self.embed(input)\n",
    "        r = self.lstm(r)[0]\n",
    "        r = self.ln(r)\n",
    "        r = torch.reshape(r, (input.size()[0],-1))\n",
    "        r = self.lno(r)\n",
    "        return torch.sigmoid(r)\n",
    "    \n",
    "def train(yrmodel='lstm', epochs=2, lr=0.0005, batch_size=16):\n",
    "    data = SpamData(data_dir, True, 1)\n",
    "    data_test = SpamData(data_dir, True, 1)\n",
    "\n",
    "    model = None\n",
    "\n",
    "    if yrmodel == \"lstm\":\n",
    "        model = LSTMmodel()\n",
    "    else:\n",
    "        model = Transmodel()\n",
    "    data_test_size = len(data_test)\n",
    "\n",
    "    dataloader = DataLoader(data, batch_size=batch_size, shuffle=True)\n",
    "    optimizer = torch.optim.Adam(model.parameters(), lr=lr)\n",
    "    criteria = torch.nn.BCELoss()\n",
    "\n",
    "    for i in range(epochs):\n",
    "        for out, inp in dataloader:\n",
    "            out = torch.reshape(out, (-1,1)).float()\n",
    "            pred = model(inp)\n",
    "            loss = criteria(pred, out)\n",
    "            loss.backward()\n",
    "            optimizer.step()\n",
    "        \n",
    "        if i % 1 == 0:\n",
    "            prob = 0\n",
    "            for j in range(len(data_test)):\n",
    "                out, inp = data_test[j]\n",
    "                with torch.no_grad():\n",
    "                    inp = torch.reshape(inp, (1, -1))\n",
    "                    pred = model(inp)\n",
    "                    a = (model(inp)-0.5)*(out-0.5)\n",
    "                    if a >= 0:\n",
    "                        prob += 1\n",
    "            \n",
    "            print(f\"epoch {i}  acc: {prob * 1.0 / data_test_size}\")\n",
    "    return model\n"
   ]
  },
  {
   "cell_type": "code",
   "execution_count": 13,
   "metadata": {},
   "outputs": [
    {
     "name": "stdout",
     "output_type": "stream",
     "text": [
      "epoch 0  acc: 0.6157965194109772\n",
      "epoch 1  acc: 0.6144578313253012\n",
      "epoch 2  acc: 0.5281124497991968\n",
      "epoch 3  acc: 0.8145917001338688\n",
      "epoch 4  acc: 0.9263721552878179\n",
      "epoch 5  acc: 0.9578313253012049\n",
      "epoch 6  acc: 0.9390896921017403\n",
      "epoch 7  acc: 0.9551539491298527\n",
      "epoch 8  acc: 0.9765729585006694\n",
      "epoch 9  acc: 0.9819277108433735\n"
     ]
    }
   ],
   "source": [
    "modellstm = train(epochs=10, lr=0.0002)"
   ]
  },
  {
   "cell_type": "code",
   "execution_count": 25,
   "metadata": {},
   "outputs": [
    {
     "name": "stdout",
     "output_type": "stream",
     "text": [
      "epoch 0  acc: 0.5\n",
      "epoch 1  acc: 0.5\n",
      "epoch 2  acc: 0.5\n",
      "epoch 3  acc: 0.5\n",
      "epoch 4  acc: 0.6164658634538153\n",
      "epoch 5  acc: 0.8199464524765729\n",
      "epoch 6  acc: 0.7938420348058902\n",
      "epoch 7  acc: 0.7904953145917001\n",
      "epoch 8  acc: 0.8346720214190094\n",
      "epoch 9  acc: 0.8360107095046854\n",
      "epoch 10  acc: 0.8279785809906292\n",
      "epoch 11  acc: 0.8179384203480589\n",
      "epoch 12  acc: 0.8085676037483266\n",
      "epoch 13  acc: 0.8145917001338688\n",
      "epoch 14  acc: 0.8299866131191432\n",
      "epoch 15  acc: 0.8467202141900937\n",
      "epoch 16  acc: 0.8554216867469879\n",
      "epoch 17  acc: 0.8668005354752343\n",
      "epoch 18  acc: 0.8862115127175368\n",
      "epoch 19  acc: 0.9069611780455153\n",
      "epoch 20  acc: 0.9156626506024096\n",
      "epoch 21  acc: 0.9163319946452476\n",
      "epoch 22  acc: 0.9196787148594378\n",
      "epoch 23  acc: 0.9250334672021419\n",
      "epoch 24  acc: 0.9250334672021419\n",
      "epoch 25  acc: 0.9230254350736279\n",
      "epoch 26  acc: 0.9250334672021419\n",
      "epoch 27  acc: 0.9270414993306559\n",
      "epoch 28  acc: 0.9263721552878179\n",
      "epoch 29  acc: 0.928380187416332\n",
      "epoch 30  acc: 0.9323962516733602\n",
      "epoch 31  acc: 0.9364123159303882\n",
      "epoch 32  acc: 0.9370816599732262\n",
      "epoch 33  acc: 0.9404283801874164\n",
      "epoch 34  acc: 0.9410977242302544\n",
      "epoch 35  acc: 0.9424364123159303\n",
      "epoch 36  acc: 0.9457831325301205\n",
      "epoch 37  acc: 0.9471218206157965\n",
      "epoch 38  acc: 0.9497991967871486\n",
      "epoch 39  acc: 0.9544846050870147\n",
      "epoch 40  acc: 0.9598393574297188\n",
      "epoch 41  acc: 0.964524765729585\n",
      "epoch 42  acc: 0.9665327978580991\n",
      "epoch 43  acc: 0.9692101740294511\n",
      "epoch 44  acc: 0.9745649263721553\n",
      "epoch 45  acc: 0.9765729585006694\n",
      "epoch 46  acc: 0.9779116465863453\n",
      "epoch 47  acc: 0.9792503346720214\n",
      "epoch 48  acc: 0.9799196787148594\n",
      "epoch 49  acc: 0.9805890227576974\n",
      "epoch 50  acc: 0.9825970548862115\n",
      "epoch 51  acc: 0.9832663989290495\n",
      "epoch 52  acc: 0.9839357429718876\n",
      "epoch 53  acc: 0.9839357429718876\n",
      "epoch 54  acc: 0.9839357429718876\n",
      "epoch 55  acc: 0.9866131191432396\n",
      "epoch 56  acc: 0.9866131191432396\n",
      "epoch 57  acc: 0.9879518072289156\n",
      "epoch 58  acc: 0.9866131191432396\n",
      "epoch 59  acc: 0.9872824631860776\n"
     ]
    }
   ],
   "source": [
    "modeltrans = train(yrmodel=\"trans\", lr=0.00015,epochs=60)"
   ]
  },
  {
   "cell_type": "code",
   "execution_count": 27,
   "metadata": {},
   "outputs": [
    {
     "name": "stdout",
     "output_type": "stream",
     "text": [
      "1 means spam, 0 means ham\n",
      "lstm model:  0.5147634744644165\n",
      "transformer model:  1.0\n"
     ]
    }
   ],
   "source": [
    "sen = '''FreeMsg Hey there darling it's been 3 week's now and no word back! I'd like some fun you up for it still? Tb ok! XxX std chgs to send, to rcv'''\n",
    "\n",
    "data = [words_map[word] for word in word_tokenize(sen) if word not in stop_words]\n",
    "data = [0] * (sentence_len - len(data)) + data\n",
    "data = torch.tensor(data)\n",
    "data = torch.reshape(data,(1,-1))\n",
    "\n",
    "print(\"1 means spam, 0 means ham\")\n",
    "print(\"lstm model: \", modellstm(data).item())\n",
    "print(\"transformer model: \", modeltrans(data).item())"
   ]
  }
 ],
 "metadata": {
  "kernelspec": {
   "display_name": "Python 3",
   "language": "python",
   "name": "python3"
  },
  "language_info": {
   "codemirror_mode": {
    "name": "ipython",
    "version": 3
   },
   "file_extension": ".py",
   "mimetype": "text/x-python",
   "name": "python",
   "nbconvert_exporter": "python",
   "pygments_lexer": "ipython3",
   "version": "3.10.10"
  },
  "orig_nbformat": 4
 },
 "nbformat": 4,
 "nbformat_minor": 2
}
